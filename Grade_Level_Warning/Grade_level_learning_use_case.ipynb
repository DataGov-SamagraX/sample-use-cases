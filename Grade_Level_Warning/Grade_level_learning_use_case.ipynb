{
 "cells": [
  {
   "cell_type": "markdown",
   "metadata": {},
   "source": [
    "## Introduction - Purpose: "
   ]
  },
  {
   "cell_type": "markdown",
   "metadata": {},
   "source": [
    "Grade level warning use case is a way to look at students who are doing at an average level and are hence not flagged by the teachers and predict any downward slide in their performances\n",
    "\n",
    "This is done by using forecasting (Holt's method) to capture any trends in their performances over time and predict for future 3 tests. If the predictions show a slide, then these students are flagged"
   ]
  },
  {
   "cell_type": "markdown",
   "metadata": {},
   "source": [
    "## Toggling the raw codes: "
   ]
  },
  {
   "cell_type": "code",
   "execution_count": 1,
   "metadata": {},
   "outputs": [
    {
     "data": {
      "text/html": [
       "<script>\n",
       "code_show=true; \n",
       "function code_toggle() {\n",
       " if (code_show){\n",
       " $('div.input').hide();\n",
       " } else {\n",
       " $('div.input').show();\n",
       " }\n",
       " code_show = !code_show\n",
       "} \n",
       "$( document ).ready(code_toggle);\n",
       "</script>\n",
       "<form action=\"javascript:code_toggle()\"><input type=\"submit\" value=\"Click here to toggle on/off the raw code.\"></form>"
      ],
      "text/plain": [
       "<IPython.core.display.HTML object>"
      ]
     },
     "execution_count": 1,
     "metadata": {},
     "output_type": "execute_result"
    }
   ],
   "source": [
    "from IPython.display import HTML\n",
    "\n",
    "HTML('''<script>\n",
    "code_show=true; \n",
    "function code_toggle() {\n",
    " if (code_show){\n",
    " $('div.input').hide();\n",
    " } else {\n",
    " $('div.input').show();\n",
    " }\n",
    " code_show = !code_show\n",
    "} \n",
    "$( document ).ready(code_toggle);\n",
    "</script>\n",
    "<form action=\"javascript:code_toggle()\"><input type=\"submit\" value=\"Click here to toggle on/off the raw code.\"></form>''')"
   ]
  },
  {
   "cell_type": "markdown",
   "metadata": {},
   "source": [
    "## Importing Libraries and connecting to SQL:"
   ]
  },
  {
   "cell_type": "code",
   "execution_count": 6,
   "metadata": {},
   "outputs": [],
   "source": [
    "import pyodbc \n",
    "import psycopg2\n",
    "import pandas as pd\n",
    "import seaborn as sns\n",
    "import numpy as np\n",
    "import matplotlib.pyplot as plt\n",
    "from sklearn.preprocessing import StandardScaler\n",
    "from sklearn.cluster import KMeans\n",
    "from scipy.stats import pearsonr"
   ]
  },
  {
   "cell_type": "code",
   "execution_count": 3,
   "metadata": {},
   "outputs": [],
   "source": [
    "from statsmodels.tsa.api import ExponentialSmoothing, SimpleExpSmoothing, Holt"
   ]
  },
  {
   "cell_type": "code",
   "execution_count": 2,
   "metadata": {},
   "outputs": [],
   "source": [
    "from sklearn.metrics import confusion_matrix\n",
    "from sklearn.metrics import roc_curve\n",
    "from sklearn.metrics import roc_auc_score\n",
    "from sklearn.metrics import roc_auc_score, roc_curve, f1_score, confusion_matrix\n",
    "from sklearn.metrics import accuracy_score, precision_score, recall_score"
   ]
  },
  {
   "cell_type": "code",
   "execution_count": 3,
   "metadata": {},
   "outputs": [],
   "source": [
    "import warnings\n",
    "warnings.filterwarnings(\"ignore\")"
   ]
  },
  {
   "cell_type": "code",
   "execution_count": null,
   "metadata": {},
   "outputs": [],
   "source": [
    "def open_connection(dbname,user,pwd,host_name,port ):\n",
    "    conn = psycopg2.connect(database = dbname, user = user, password = pwd, host = host_name, port = port)\n",
    "    print (\"Connected successfully\")\n",
    "    return conn"
   ]
  },
  {
   "cell_type": "code",
   "execution_count": 11,
   "metadata": {},
   "outputs": [],
   "source": [
    "def run_sql_code(sql_stmnt,conn) : \n",
    "    cursor = conn.cursor()\n",
    "    cursor.execute( sql_stmnt )\n",
    "    \n",
    "    if cursor.pgresult_ptr is not None:\n",
    "        sql_table = cursor.fetchall()\n",
    "        column_names = [desc[0] for desc in cursor.description]\n",
    "        sql_table_df =  pd.DataFrame(sql_table,columns = (column_names))\n",
    "    else:\n",
    "        sql_table_df =  \"No table rows selected\"\n",
    "\n",
    "    return(sql_table_df)"
   ]
  },
  {
   "cell_type": "markdown",
   "metadata": {},
   "source": [
    "### Connecting to  SQL server \n",
    "Enter password to connect to the Samarth Staging server : "
   ]
  },
  {
   "cell_type": "code",
   "execution_count": 9,
   "metadata": {},
   "outputs": [
    {
     "name": "stdout",
     "output_type": "stream",
     "text": [
      "········\n"
     ]
    }
   ],
   "source": [
    "dbname =\"postgres\"\n",
    "user = \"postgres\"\n",
    "host_name = \"143.110.183.73\"\n",
    "port = \"15432\"\n",
    "pwd= getpass.getpass()"
   ]
  },
  {
   "cell_type": "code",
   "execution_count": 12,
   "metadata": {
    "scrolled": true
   },
   "outputs": [
    {
     "name": "stdout",
     "output_type": "stream",
     "text": [
      "Connected successfully\n"
     ]
    }
   ],
   "source": [
    "conn = open_connection(dbname,user,pwd,host_name,port )"
   ]
  },
  {
   "cell_type": "code",
   "execution_count": 215,
   "metadata": {},
   "outputs": [],
   "source": [
    "def print_class_metric( y_train, y_pred2 ) :\n",
    "    conf_mat = confusion_matrix(y_train, y_pred2)\n",
    "    FN = conf_mat[0,1]\n",
    "    TN = conf_mat[0,0]\n",
    "    FP =conf_mat[1,0]\n",
    "    TP = conf_mat[1,1]\n",
    "    Average_precision =  round((TP/(TP+FP) + TN/(TN + FN))/2, 4)\n",
    "    Average_recall =  round((TP/(TP+FN) + TN/(TN + FP))/2, 4)\n",
    "    \n",
    "    # percentages for tp/fp/tn/fn\n",
    "    perc_tp = \"{:.2%}\".format(round(TP/(TP+FP+TN+FN), 4))\n",
    "    perc_fp = \"{:.2%}\".format(round(FP/(TP+FP+TN+FN), 4))\n",
    "    perc_tn = \"{:.2%}\".format(round(TN/(TP+FP+TN+FN), 4))\n",
    "    perc_fn = \"{:.2%}\".format(round(FN/(TP+FP+TN+FN), 4))\n",
    "    \n",
    "    #calculate F1 score\n",
    "    F1_score = round(f1_score(y_train, y_pred2), 4)\n",
    "    return Average_precision, Average_recall, F1_score, perc_tp, perc_fp, perc_tn, perc_fn\n",
    "\n",
    "def print_conf_matrix(y_train, y_pred2, modelname):\n",
    "    plt.rcParams[\"figure.figsize\"] = (6.4, 4.8)\n",
    "    conf_mat = confusion_matrix(y_train, y_pred2)\n",
    "    group_names = ['True Neg','False Pos','False Neg','True Pos']\n",
    "    group_counts = [\"{0:0.0f}\".format(value) for value in conf_mat.flatten()]\n",
    "    group_percentages = [\"{0:.2%}\".format(value) for value in conf_mat.flatten()/np.sum(conf_mat)]\n",
    "    labels = [f\"{v1}\\n{v2}\\n{v3}\" for v1, v2, v3 in zip(group_names,group_counts,group_percentages)]\n",
    "    labels = np.asarray(labels).reshape(2,2)\n",
    "    \n",
    "    ax= plt.subplot()\n",
    "    sns.heatmap(conf_mat, annot=labels, fmt='', cmap='Blues', ax = ax)\n",
    "    ax.set_xlabel('Predicted labels');ax.set_ylabel('True labels')\n",
    "    ax.set_title('Confusion Matrix - {}'.format(modelname)) \n",
    "    ax.xaxis.set_ticklabels(['Functional', 'Non-Functional']); ax.yaxis.set_ticklabels(['Functional', 'Non-Functional'])\n",
    "    print('\\n')"
   ]
  },
  {
   "cell_type": "markdown",
   "metadata": {},
   "source": [
    "## Use Case - Grade-Level Warning : "
   ]
  },
  {
   "cell_type": "markdown",
   "metadata": {},
   "source": [
    "Grade level warning use case is a way to look at students who are doing at an average level and are hence not flagged by the teachers and predict any downward slide in their performances\n",
    "\n",
    "This is done by using forecasting (Holt's method) to capture any trends in their performances over time and predict for future 3 tests. If the predictions show a slide, then these students are flagged"
   ]
  },
  {
   "cell_type": "markdown",
   "metadata": {},
   "source": [
    "### Data considered - Whatsapp test results: "
   ]
  },
  {
   "cell_type": "markdown",
   "metadata": {},
   "source": [
    "We do not have class assessment data for more than 3 tests for the students and forecasting is unreliable with such a low number of  data points. \n",
    "\n",
    "Hence, we are considering whatsapp test results are for building the forecasting models. \n",
    "First, we can check if the whatsap results are a good proxy for the student assessment performance. \n",
    "We do this by looking at the correlation between the whatsapp marks and the student class assessment results "
   ]
  },
  {
   "cell_type": "code",
   "execution_count": 15,
   "metadata": {},
   "outputs": [],
   "source": [
    "sql_stmnt = ''' select student_id, Subject_desc, subm_grade_number,\n",
    "sum(assessment_total_marks) as assessment_total_marks,\n",
    "sum(assessment_marks) as assessment_marks \n",
    "FROM\n",
    "\n",
    "    (select \n",
    "    base.student_id, subject.name as Subject_desc,grade.number as subm_grade_number ,\n",
    "    component_type.name as component_name,\n",
    "    \n",
    "    avg(component.max_marks) as assessment_total_marks,\n",
    "    avg(component_submission.assessment_marks) as  assessment_marks,\n",
    "     --component_submission.assessment_marks*100.00/component.max_marks  as assessment_percent,\n",
    "     grade.number\n",
    "      from  student_submission_v2 base\n",
    "    left join student_submission_v2_marks_submissions on base.id =  student_submission_v2_marks_submissions.studentsubmission_v2_id\n",
    "    left join component_submission on student_submission_v2_marks_submissions.componentsubmission_id =  component_submission.id\n",
    "    left join component on component_submission.component_id =  component.id\n",
    "    left join component_type on component.component_type_id =  component_type.id\n",
    "    left join grade on base.grade_id = grade.id \n",
    "    left join student on base.student_id  = student.id\n",
    "    left join school on student.school_id = school.id\n",
    "    left join assessment on base.assessment_id =  assessment.id   \n",
    "    left join assessment_type on  assessment.type_v2_id  = assessment_type.id\n",
    "    left join deadline on assessment.deadline_id =  deadline.id\n",
    "    left join subject on base.subject_id =  subject.id \n",
    "    left join location  on school.location_id = location.id\n",
    "    where student.is_enabled = 't'\n",
    "    and school.is_active =  't'\n",
    "    and school.udise > 1111111111 \n",
    "    and location.district = 'SHIMLA'\n",
    "    and grade.number in ('8')\n",
    "    group by base.student_id, subject.name,grade.number  ,component_type.name) g\n",
    "group by student_id, Subject_desc, subm_grade_number '''"
   ]
  },
  {
   "cell_type": "code",
   "execution_count": 21,
   "metadata": {},
   "outputs": [],
   "source": [
    "df.to_csv('D:/Samagra/Samarth LR/New_data_Shimla_8.csv',index=False)"
   ]
  },
  {
   "cell_type": "code",
   "execution_count": 22,
   "metadata": {},
   "outputs": [],
   "source": [
    "base_df =  pd.read_csv('D:/Samagra/Samarth LR/New_data_Shimla_8.csv')"
   ]
  },
  {
   "cell_type": "code",
   "execution_count": 28,
   "metadata": {},
   "outputs": [],
   "source": [
    "Whatsapp_df = pd.read_csv('D:/Samagra/Samarth LR/Whatsapp_data_shimla.csv')"
   ]
  },
  {
   "cell_type": "code",
   "execution_count": 30,
   "metadata": {},
   "outputs": [],
   "source": [
    "df3 = pd.merge(base_df, Whatsapp_df,  how='inner', left_on=['student_id','subject_desc'], right_on = ['studentid','subject'])"
   ]
  },
  {
   "cell_type": "markdown",
   "metadata": {},
   "source": [
    "Checking correlation of the scores of the Whatsapp test vs the assessment results for Grade 8 of Shimla: "
   ]
  },
  {
   "cell_type": "code",
   "execution_count": 150,
   "metadata": {},
   "outputs": [
    {
     "name": "stdout",
     "output_type": "stream",
     "text": [
      "Correlation :   0.32\n"
     ]
    }
   ],
   "source": [
    "print ( 'Correlation :  ', round( pearsonr(df3['assessment_percent'],df3['score'])[0],2))"
   ]
  },
  {
   "cell_type": "markdown",
   "metadata": {},
   "source": [
    "Correlation is low for thes test results. This was done by taking average of the assessments test marks and checking it against the average of the whatsapp test marks for each subject for common students (around ~1200) "
   ]
  },
  {
   "cell_type": "markdown",
   "metadata": {},
   "source": [
    "### Building the Forecasting model: "
   ]
  },
  {
   "cell_type": "markdown",
   "metadata": {},
   "source": [
    "#### Looking at the dataset: "
   ]
  },
  {
   "cell_type": "markdown",
   "metadata": {},
   "source": [
    "Though the correlation value is low, we build out the forecasting model,  hoping to use the insights and logics later on a more reliable dataset"
   ]
  },
  {
   "cell_type": "code",
   "execution_count": 57,
   "metadata": {},
   "outputs": [],
   "source": [
    "Whatsapp_ts_data = pd.read_csv('D:/Samagra/Samarth LR/Whatsapp_TS_data.csv')\n",
    "Whatsapp_ts_data['score'] =  np.round(Whatsapp_ts_data['score'],0)\n",
    "Whatsapp_ts_data_pivoted =  Whatsapp_ts_data.pivot_table(index=['studentid','grade_number','subject'], columns='week', values='score').reset_index()"
   ]
  },
  {
   "cell_type": "markdown",
   "metadata": {},
   "source": [
    "Whatsapp data for a few weeks is pulled and pivoted. \n",
    "We only consider students who attempeted tests in all the weeks for now. \n",
    "\n",
    "\n",
    "A sample of the table created is shown below. Week 10-25 are considered because this subset is well populated "
   ]
  },
  {
   "cell_type": "code",
   "execution_count": 63,
   "metadata": {},
   "outputs": [
    {
     "data": {
      "text/html": [
       "<div>\n",
       "<style scoped>\n",
       "    .dataframe tbody tr th:only-of-type {\n",
       "        vertical-align: middle;\n",
       "    }\n",
       "\n",
       "    .dataframe tbody tr th {\n",
       "        vertical-align: top;\n",
       "    }\n",
       "\n",
       "    .dataframe thead th {\n",
       "        text-align: right;\n",
       "    }\n",
       "</style>\n",
       "<table border=\"1\" class=\"dataframe\">\n",
       "  <thead>\n",
       "    <tr style=\"text-align: right;\">\n",
       "      <th>week</th>\n",
       "      <th>studentid</th>\n",
       "      <th>grade_number</th>\n",
       "      <th>subject</th>\n",
       "      <th>10</th>\n",
       "      <th>11</th>\n",
       "      <th>12</th>\n",
       "      <th>13</th>\n",
       "      <th>14</th>\n",
       "      <th>15</th>\n",
       "      <th>16</th>\n",
       "      <th>17</th>\n",
       "      <th>18</th>\n",
       "      <th>19</th>\n",
       "      <th>20</th>\n",
       "      <th>21</th>\n",
       "      <th>22</th>\n",
       "      <th>23</th>\n",
       "      <th>24</th>\n",
       "      <th>25</th>\n",
       "    </tr>\n",
       "  </thead>\n",
       "  <tbody>\n",
       "    <tr>\n",
       "      <th>0</th>\n",
       "      <td>7240</td>\n",
       "      <td>2</td>\n",
       "      <td>Maths</td>\n",
       "      <td>75.0</td>\n",
       "      <td>87.0</td>\n",
       "      <td>87.0</td>\n",
       "      <td>75.0</td>\n",
       "      <td>100.0</td>\n",
       "      <td>87.0</td>\n",
       "      <td>75.0</td>\n",
       "      <td>100.0</td>\n",
       "      <td>100.0</td>\n",
       "      <td>100.0</td>\n",
       "      <td>75.0</td>\n",
       "      <td>100.0</td>\n",
       "      <td>100.0</td>\n",
       "      <td>81.0</td>\n",
       "      <td>100.0</td>\n",
       "      <td>100.0</td>\n",
       "    </tr>\n",
       "    <tr>\n",
       "      <th>1</th>\n",
       "      <td>43017</td>\n",
       "      <td>3</td>\n",
       "      <td>Maths</td>\n",
       "      <td>71.0</td>\n",
       "      <td>75.0</td>\n",
       "      <td>62.0</td>\n",
       "      <td>62.0</td>\n",
       "      <td>87.0</td>\n",
       "      <td>50.0</td>\n",
       "      <td>37.0</td>\n",
       "      <td>69.0</td>\n",
       "      <td>66.0</td>\n",
       "      <td>84.0</td>\n",
       "      <td>100.0</td>\n",
       "      <td>87.0</td>\n",
       "      <td>75.0</td>\n",
       "      <td>54.0</td>\n",
       "      <td>75.0</td>\n",
       "      <td>74.0</td>\n",
       "    </tr>\n",
       "    <tr>\n",
       "      <th>2</th>\n",
       "      <td>47591</td>\n",
       "      <td>2</td>\n",
       "      <td>Maths</td>\n",
       "      <td>85.0</td>\n",
       "      <td>100.0</td>\n",
       "      <td>70.0</td>\n",
       "      <td>61.0</td>\n",
       "      <td>65.0</td>\n",
       "      <td>87.0</td>\n",
       "      <td>56.0</td>\n",
       "      <td>87.0</td>\n",
       "      <td>62.0</td>\n",
       "      <td>62.0</td>\n",
       "      <td>62.0</td>\n",
       "      <td>100.0</td>\n",
       "      <td>94.0</td>\n",
       "      <td>50.0</td>\n",
       "      <td>56.0</td>\n",
       "      <td>81.0</td>\n",
       "    </tr>\n",
       "    <tr>\n",
       "      <th>3</th>\n",
       "      <td>58698</td>\n",
       "      <td>3</td>\n",
       "      <td>Maths</td>\n",
       "      <td>57.0</td>\n",
       "      <td>87.0</td>\n",
       "      <td>75.0</td>\n",
       "      <td>87.0</td>\n",
       "      <td>75.0</td>\n",
       "      <td>100.0</td>\n",
       "      <td>62.0</td>\n",
       "      <td>50.0</td>\n",
       "      <td>100.0</td>\n",
       "      <td>100.0</td>\n",
       "      <td>100.0</td>\n",
       "      <td>100.0</td>\n",
       "      <td>75.0</td>\n",
       "      <td>87.0</td>\n",
       "      <td>100.0</td>\n",
       "      <td>100.0</td>\n",
       "    </tr>\n",
       "    <tr>\n",
       "      <th>4</th>\n",
       "      <td>60659</td>\n",
       "      <td>2</td>\n",
       "      <td>Maths</td>\n",
       "      <td>100.0</td>\n",
       "      <td>100.0</td>\n",
       "      <td>60.0</td>\n",
       "      <td>100.0</td>\n",
       "      <td>71.0</td>\n",
       "      <td>87.0</td>\n",
       "      <td>62.0</td>\n",
       "      <td>100.0</td>\n",
       "      <td>94.0</td>\n",
       "      <td>68.0</td>\n",
       "      <td>100.0</td>\n",
       "      <td>100.0</td>\n",
       "      <td>100.0</td>\n",
       "      <td>100.0</td>\n",
       "      <td>100.0</td>\n",
       "      <td>100.0</td>\n",
       "    </tr>\n",
       "    <tr>\n",
       "      <th>...</th>\n",
       "      <td>...</td>\n",
       "      <td>...</td>\n",
       "      <td>...</td>\n",
       "      <td>...</td>\n",
       "      <td>...</td>\n",
       "      <td>...</td>\n",
       "      <td>...</td>\n",
       "      <td>...</td>\n",
       "      <td>...</td>\n",
       "      <td>...</td>\n",
       "      <td>...</td>\n",
       "      <td>...</td>\n",
       "      <td>...</td>\n",
       "      <td>...</td>\n",
       "      <td>...</td>\n",
       "      <td>...</td>\n",
       "      <td>...</td>\n",
       "      <td>...</td>\n",
       "      <td>...</td>\n",
       "    </tr>\n",
       "    <tr>\n",
       "      <th>12551</th>\n",
       "      <td>1334190</td>\n",
       "      <td>1</td>\n",
       "      <td>Maths</td>\n",
       "      <td>87.0</td>\n",
       "      <td>62.0</td>\n",
       "      <td>87.0</td>\n",
       "      <td>75.0</td>\n",
       "      <td>87.0</td>\n",
       "      <td>50.0</td>\n",
       "      <td>87.0</td>\n",
       "      <td>87.0</td>\n",
       "      <td>87.0</td>\n",
       "      <td>100.0</td>\n",
       "      <td>87.0</td>\n",
       "      <td>87.0</td>\n",
       "      <td>50.0</td>\n",
       "      <td>100.0</td>\n",
       "      <td>81.0</td>\n",
       "      <td>87.0</td>\n",
       "    </tr>\n",
       "    <tr>\n",
       "      <th>12552</th>\n",
       "      <td>1334227</td>\n",
       "      <td>1</td>\n",
       "      <td>Maths</td>\n",
       "      <td>100.0</td>\n",
       "      <td>100.0</td>\n",
       "      <td>87.0</td>\n",
       "      <td>75.0</td>\n",
       "      <td>100.0</td>\n",
       "      <td>75.0</td>\n",
       "      <td>100.0</td>\n",
       "      <td>87.0</td>\n",
       "      <td>87.0</td>\n",
       "      <td>100.0</td>\n",
       "      <td>100.0</td>\n",
       "      <td>100.0</td>\n",
       "      <td>100.0</td>\n",
       "      <td>100.0</td>\n",
       "      <td>100.0</td>\n",
       "      <td>100.0</td>\n",
       "    </tr>\n",
       "    <tr>\n",
       "      <th>12553</th>\n",
       "      <td>1334775</td>\n",
       "      <td>1</td>\n",
       "      <td>Maths</td>\n",
       "      <td>100.0</td>\n",
       "      <td>75.0</td>\n",
       "      <td>100.0</td>\n",
       "      <td>50.0</td>\n",
       "      <td>100.0</td>\n",
       "      <td>75.0</td>\n",
       "      <td>100.0</td>\n",
       "      <td>62.0</td>\n",
       "      <td>100.0</td>\n",
       "      <td>100.0</td>\n",
       "      <td>87.0</td>\n",
       "      <td>100.0</td>\n",
       "      <td>100.0</td>\n",
       "      <td>75.0</td>\n",
       "      <td>75.0</td>\n",
       "      <td>100.0</td>\n",
       "    </tr>\n",
       "    <tr>\n",
       "      <th>12554</th>\n",
       "      <td>1336938</td>\n",
       "      <td>1</td>\n",
       "      <td>Maths</td>\n",
       "      <td>87.0</td>\n",
       "      <td>75.0</td>\n",
       "      <td>75.0</td>\n",
       "      <td>62.0</td>\n",
       "      <td>100.0</td>\n",
       "      <td>37.0</td>\n",
       "      <td>75.0</td>\n",
       "      <td>75.0</td>\n",
       "      <td>87.0</td>\n",
       "      <td>75.0</td>\n",
       "      <td>50.0</td>\n",
       "      <td>75.0</td>\n",
       "      <td>50.0</td>\n",
       "      <td>37.0</td>\n",
       "      <td>62.0</td>\n",
       "      <td>87.0</td>\n",
       "    </tr>\n",
       "    <tr>\n",
       "      <th>12555</th>\n",
       "      <td>1337924</td>\n",
       "      <td>1</td>\n",
       "      <td>Maths</td>\n",
       "      <td>62.0</td>\n",
       "      <td>87.0</td>\n",
       "      <td>100.0</td>\n",
       "      <td>87.0</td>\n",
       "      <td>75.0</td>\n",
       "      <td>62.0</td>\n",
       "      <td>75.0</td>\n",
       "      <td>75.0</td>\n",
       "      <td>87.0</td>\n",
       "      <td>100.0</td>\n",
       "      <td>50.0</td>\n",
       "      <td>25.0</td>\n",
       "      <td>37.0</td>\n",
       "      <td>62.0</td>\n",
       "      <td>75.0</td>\n",
       "      <td>62.0</td>\n",
       "    </tr>\n",
       "  </tbody>\n",
       "</table>\n",
       "<p>12556 rows × 19 columns</p>\n",
       "</div>"
      ],
      "text/plain": [
       "week   studentid  grade_number subject     10     11     12     13     14  \\\n",
       "0           7240             2   Maths   75.0   87.0   87.0   75.0  100.0   \n",
       "1          43017             3   Maths   71.0   75.0   62.0   62.0   87.0   \n",
       "2          47591             2   Maths   85.0  100.0   70.0   61.0   65.0   \n",
       "3          58698             3   Maths   57.0   87.0   75.0   87.0   75.0   \n",
       "4          60659             2   Maths  100.0  100.0   60.0  100.0   71.0   \n",
       "...          ...           ...     ...    ...    ...    ...    ...    ...   \n",
       "12551    1334190             1   Maths   87.0   62.0   87.0   75.0   87.0   \n",
       "12552    1334227             1   Maths  100.0  100.0   87.0   75.0  100.0   \n",
       "12553    1334775             1   Maths  100.0   75.0  100.0   50.0  100.0   \n",
       "12554    1336938             1   Maths   87.0   75.0   75.0   62.0  100.0   \n",
       "12555    1337924             1   Maths   62.0   87.0  100.0   87.0   75.0   \n",
       "\n",
       "week      15     16     17     18     19     20     21     22     23     24  \\\n",
       "0       87.0   75.0  100.0  100.0  100.0   75.0  100.0  100.0   81.0  100.0   \n",
       "1       50.0   37.0   69.0   66.0   84.0  100.0   87.0   75.0   54.0   75.0   \n",
       "2       87.0   56.0   87.0   62.0   62.0   62.0  100.0   94.0   50.0   56.0   \n",
       "3      100.0   62.0   50.0  100.0  100.0  100.0  100.0   75.0   87.0  100.0   \n",
       "4       87.0   62.0  100.0   94.0   68.0  100.0  100.0  100.0  100.0  100.0   \n",
       "...      ...    ...    ...    ...    ...    ...    ...    ...    ...    ...   \n",
       "12551   50.0   87.0   87.0   87.0  100.0   87.0   87.0   50.0  100.0   81.0   \n",
       "12552   75.0  100.0   87.0   87.0  100.0  100.0  100.0  100.0  100.0  100.0   \n",
       "12553   75.0  100.0   62.0  100.0  100.0   87.0  100.0  100.0   75.0   75.0   \n",
       "12554   37.0   75.0   75.0   87.0   75.0   50.0   75.0   50.0   37.0   62.0   \n",
       "12555   62.0   75.0   75.0   87.0  100.0   50.0   25.0   37.0   62.0   75.0   \n",
       "\n",
       "week      25  \n",
       "0      100.0  \n",
       "1       74.0  \n",
       "2       81.0  \n",
       "3      100.0  \n",
       "4      100.0  \n",
       "...      ...  \n",
       "12551   87.0  \n",
       "12552  100.0  \n",
       "12553  100.0  \n",
       "12554   87.0  \n",
       "12555   62.0  \n",
       "\n",
       "[12556 rows x 19 columns]"
      ]
     },
     "execution_count": 63,
     "metadata": {},
     "output_type": "execute_result"
    }
   ],
   "source": [
    "Whatsapp_ts_data_pivoted"
   ]
  },
  {
   "cell_type": "code",
   "execution_count": 61,
   "metadata": {},
   "outputs": [],
   "source": [
    "def exponential_smoothing(series, alpha):\n",
    "    result = [series[0]] # first value is same as series\n",
    "    for n in range(1, len(series)):\n",
    "        result.append(alpha * series[n] + (1 - alpha) * result[n-1])\n",
    "    return result"
   ]
  },
  {
   "cell_type": "code",
   "execution_count": 129,
   "metadata": {},
   "outputs": [],
   "source": [
    "Results =  pd.DataFrame(Whatsapp_ts_data_pivoted[23].values,columns= ['Results_23'])"
   ]
  },
  {
   "cell_type": "code",
   "execution_count": 131,
   "metadata": {},
   "outputs": [],
   "source": [
    "Results['Results_23'] = 0\n",
    "Results['Results_24'] = 0\n",
    "Results['Results_25'] = 0 "
   ]
  },
  {
   "cell_type": "code",
   "execution_count": 158,
   "metadata": {},
   "outputs": [],
   "source": [
    "for i in range(0,Whatsapp_ts_data_pivoted.shape[0]):\n",
    "    series1 = Whatsapp_ts_data_pivoted.iloc[i,list(range(3,16))].values\n",
    "    fit1 = Holt(series1).fit(smoothing_level=0.8, smoothing_slope=0.2, optimized=False)\n",
    "    Results.loc[i,:] = fit1.forecast(3)"
   ]
  },
  {
   "cell_type": "code",
   "execution_count": 145,
   "metadata": {},
   "outputs": [],
   "source": [
    "Results[Results > 100] =  100\n",
    "Results[Results < 0] =  0"
   ]
  },
  {
   "cell_type": "code",
   "execution_count": 159,
   "metadata": {},
   "outputs": [],
   "source": [
    "Results.to_csv(\"results_forecasting_whatsapp.csv\", index= False)"
   ]
  },
  {
   "cell_type": "markdown",
   "metadata": {},
   "source": [
    "### Data selection and results: "
   ]
  },
  {
   "cell_type": "markdown",
   "metadata": {},
   "source": [
    "Weeks 10- 22 are considered and Holt's method is used to forecast on the next 3 weeks results on this basis. \n",
    "The results show the classification results for predicting if any of the students are will fail the next tests:"
   ]
  },
  {
   "cell_type": "code",
   "execution_count": 154,
   "metadata": {},
   "outputs": [],
   "source": [
    "Whatsapp_train_data =  Whatsapp_ts_data_pivoted.iloc[:,list(range(3,16))] "
   ]
  },
  {
   "cell_type": "code",
   "execution_count": 171,
   "metadata": {},
   "outputs": [],
   "source": [
    "Whatsapp_train_data['mean_score']=  Whatsapp_train_data.mean(axis=1)"
   ]
  },
  {
   "cell_type": "code",
   "execution_count": 186,
   "metadata": {},
   "outputs": [],
   "source": [
    "Whatsapp_train_data['Above_45_flag'] = 0"
   ]
  },
  {
   "cell_type": "code",
   "execution_count": 187,
   "metadata": {},
   "outputs": [],
   "source": [
    "Whatsapp_train_data.loc[Whatsapp_train_data['mean_score'] > 45,'Above_45_flag'] =  1 "
   ]
  },
  {
   "cell_type": "code",
   "execution_count": 172,
   "metadata": {},
   "outputs": [],
   "source": [
    "Whatsapp_test_data =  Whatsapp_ts_data_pivoted.iloc[:,list(range(16,19))] "
   ]
  },
  {
   "cell_type": "code",
   "execution_count": 174,
   "metadata": {},
   "outputs": [],
   "source": [
    "Whatsapp_test_data['Below_45_last_3'] =  0 "
   ]
  },
  {
   "cell_type": "code",
   "execution_count": 177,
   "metadata": {},
   "outputs": [],
   "source": [
    "Whatsapp_test_data.loc[Whatsapp_test_data[23]< 45, 'Below_45_last_3'] = 1\n",
    "Whatsapp_test_data.loc[Whatsapp_test_data[24]< 45, 'Below_45_last_3'] = 1\n",
    "Whatsapp_test_data.loc[Whatsapp_test_data[25]< 45, 'Below_45_last_3'] = 1"
   ]
  },
  {
   "cell_type": "code",
   "execution_count": 180,
   "metadata": {},
   "outputs": [],
   "source": [
    "Results[\"Less_than_45_flag\"] = 0\n",
    "Results.loc[Results['Results_23'] < 45,'Less_than_45_flag' ] =  1\n",
    "Results = Results.rename(columns ={'Less_than_45_flag':'Less_than-45_forecast'})\n",
    "df1 = Whatsapp_train_data.join(Whatsapp_test_data)\n",
    "train_data_summ =  df1[['mean_score','Above_45_flag','Below_45_last_3']]\n",
    "results_data_summ = train_data_summ.join(Results)"
   ]
  },
  {
   "cell_type": "code",
   "execution_count": 202,
   "metadata": {},
   "outputs": [],
   "source": [
    "results_data_summ = results_data_summ[['mean_score','Above_45_flag','Below_45_last_3','Less_than-45_forecast']]"
   ]
  },
  {
   "cell_type": "code",
   "execution_count": 206,
   "metadata": {},
   "outputs": [],
   "source": [
    "results_data_above_45 = results_data_summ.loc[results_data_summ['Above_45_flag'] == 1,]"
   ]
  },
  {
   "cell_type": "code",
   "execution_count": 219,
   "metadata": {},
   "outputs": [
    {
     "name": "stdout",
     "output_type": "stream",
     "text": [
      "\n",
      "Avg. Precision:  0.5667 \n",
      "\n",
      "Avg. Recall:  0.6456 \n",
      "\n",
      "F1 Score:  0.2429 \n",
      "\n",
      "\n",
      "\n",
      "Positive class is student failure (below 45 marks)\n"
     ]
    },
    {
     "data": {
      "image/png": "[encoded data removed]",
      "text/plain": [
       "<Figure size 460.8x345.6 with 2 Axes>"
      ]
     },
     "metadata": {
      "needs_background": "light"
     },
     "output_type": "display_data"
    }
   ],
   "source": [
    "precision, recall, f1score, true_pos, false_pos, true_neg, false_neg = print_class_metric( results_data_above_45['Below_45_last_3'], results_data_above_45['Less_than-45_forecast'] )\n",
    "print('\\nAvg. Precision: ',precision,'\\n')\n",
    "print('Avg. Recall: ',recall,'\\n')\n",
    "print('F1 Score: ',f1score,'\\n')\n",
    "print_conf_matrix(results_data_above_45['Below_45_last_3'], results_data_above_45['Less_than-45_forecast'], 'Predicting if average student will do poorly in future')\n",
    "\n",
    "print('Positive class is student failure (below 45 marks)')"
   ]
  },
  {
   "cell_type": "code",
   "execution_count": null,
   "metadata": {},
   "outputs": [],
   "source": []
  }
 ],
 "metadata": {
  "kernelspec": {
   "display_name": "Python 3",
   "language": "python",
   "name": "python3"
  },
  "language_info": {
   "codemirror_mode": {
    "name": "ipython",
    "version": 3
   },
   "file_extension": ".py",
   "mimetype": "text/x-python",
   "name": "python",
   "nbconvert_exporter": "python",
   "pygments_lexer": "ipython3",
   "version": "3.8.3"
  },
  "toc": {
   "base_numbering": 1,
   "nav_menu": {},
   "number_sections": true,
   "sideBar": true,
   "skip_h1_title": false,
   "title_cell": "Table of Contents",
   "title_sidebar": "Contents",
   "toc_cell": false,
   "toc_position": {
    "height": "calc(100% - 180px)",
    "left": "10px",
    "top": "150px",
    "width": "239px"
   },
   "toc_section_display": true,
   "toc_window_display": true
  }
 },
 "nbformat": 4,
 "nbformat_minor": 4
}
